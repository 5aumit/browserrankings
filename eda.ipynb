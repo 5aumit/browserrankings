{
 "cells": [
  {
   "cell_type": "code",
   "execution_count": 20,
   "id": "b7616d39-0a9f-4c40-95c4-35e868e63bcb",
   "metadata": {},
   "outputs": [],
   "source": [
    "import pandas as pd\n",
    "import numpy as np\n",
    "import matplotlib.pyplot as plt\n",
    "import seaborn as sns\n",
    "import texthero as hero\n",
    "\n",
    "%matplotlib inline\n",
    "\n",
    "pd.set_option('display.max_rows', None)"
   ]
  },
  {
   "cell_type": "code",
   "execution_count": 21,
   "id": "de33ec48-37e6-48ef-acb3-ae0cd625f61a",
   "metadata": {},
   "outputs": [],
   "source": [
    "df = pd.read_csv('browser_rankings_data.csv')"
   ]
  },
  {
   "cell_type": "code",
   "execution_count": 22,
   "id": "cf65b447-3f11-4630-b209-d34ff2b7639c",
   "metadata": {
    "scrolled": true,
    "tags": []
   },
   "outputs": [
    {
     "data": {
      "text/html": [
       "<div>\n",
       "<style scoped>\n",
       "    .dataframe tbody tr th:only-of-type {\n",
       "        vertical-align: middle;\n",
       "    }\n",
       "\n",
       "    .dataframe tbody tr th {\n",
       "        vertical-align: top;\n",
       "    }\n",
       "\n",
       "    .dataframe thead th {\n",
       "        text-align: right;\n",
       "    }\n",
       "</style>\n",
       "<table border=\"1\" class=\"dataframe\">\n",
       "  <thead>\n",
       "    <tr style=\"text-align: right;\">\n",
       "      <th></th>\n",
       "      <th>ID</th>\n",
       "      <th>Keyword</th>\n",
       "      <th>Rank</th>\n",
       "      <th>Country</th>\n",
       "      <th>Language</th>\n",
       "      <th>Date</th>\n",
       "      <th>App ID</th>\n",
       "      <th>Date of Last Description Change</th>\n",
       "      <th>Short Description</th>\n",
       "      <th>Long Description</th>\n",
       "    </tr>\n",
       "  </thead>\n",
       "  <tbody>\n",
       "    <tr>\n",
       "      <th>0</th>\n",
       "      <td>1</td>\n",
       "      <td>browser</td>\n",
       "      <td>2.0</td>\n",
       "      <td>in</td>\n",
       "      <td>en</td>\n",
       "      <td>16-12-2020</td>\n",
       "      <td>net.fast.web.browser</td>\n",
       "      <td>18-12-2020</td>\n",
       "      <td>The small, fastest, secure Web Browser, best m...</td>\n",
       "      <td>One of the smallest, fastest, secure Web Brows...</td>\n",
       "    </tr>\n",
       "    <tr>\n",
       "      <th>1</th>\n",
       "      <td>2</td>\n",
       "      <td>browser</td>\n",
       "      <td>3.0</td>\n",
       "      <td>in</td>\n",
       "      <td>en</td>\n",
       "      <td>16-12-2020</td>\n",
       "      <td>com.android.chrome</td>\n",
       "      <td>18-12-2020</td>\n",
       "      <td>Fast, simple, and secure. Google Chrome browse...</td>\n",
       "      <td>Google Chrome is a fast, easy to use, and secu...</td>\n",
       "    </tr>\n",
       "    <tr>\n",
       "      <th>2</th>\n",
       "      <td>3</td>\n",
       "      <td>browser</td>\n",
       "      <td>4.0</td>\n",
       "      <td>in</td>\n",
       "      <td>en</td>\n",
       "      <td>16-12-2020</td>\n",
       "      <td>com.opera.browser</td>\n",
       "      <td>27-02-2021</td>\n",
       "      <td>Fast, safe web browser: free VPN, Ad blocker, ...</td>\n",
       "      <td>Fast, safe and private, introducing the latest...</td>\n",
       "    </tr>\n",
       "    <tr>\n",
       "      <th>3</th>\n",
       "      <td>3</td>\n",
       "      <td>browser</td>\n",
       "      <td>4.0</td>\n",
       "      <td>in</td>\n",
       "      <td>en</td>\n",
       "      <td>16-12-2020</td>\n",
       "      <td>com.opera.browser</td>\n",
       "      <td>18-12-2020</td>\n",
       "      <td>Fast, safe web browser: free VPN, Ad blocker, ...</td>\n",
       "      <td>Opera is a fast, safe web browser for your And...</td>\n",
       "    </tr>\n",
       "    <tr>\n",
       "      <th>4</th>\n",
       "      <td>4</td>\n",
       "      <td>browser</td>\n",
       "      <td>1.0</td>\n",
       "      <td>in</td>\n",
       "      <td>en</td>\n",
       "      <td>16-12-2020</td>\n",
       "      <td>com.cloudmosa.puffinTV</td>\n",
       "      <td>07-02-2021</td>\n",
       "      <td>Puffin TV Browser - One App to Watch All Video...</td>\n",
       "      <td>Puffin TV Browser is a special edition of Puff...</td>\n",
       "    </tr>\n",
       "  </tbody>\n",
       "</table>\n",
       "</div>"
      ],
      "text/plain": [
       "   ID  Keyword  Rank Country Language        Date                  App ID  \\\n",
       "0   1  browser   2.0      in       en  16-12-2020    net.fast.web.browser   \n",
       "1   2  browser   3.0      in       en  16-12-2020      com.android.chrome   \n",
       "2   3  browser   4.0      in       en  16-12-2020       com.opera.browser   \n",
       "3   3  browser   4.0      in       en  16-12-2020       com.opera.browser   \n",
       "4   4  browser   1.0      in       en  16-12-2020  com.cloudmosa.puffinTV   \n",
       "\n",
       "  Date of Last Description Change  \\\n",
       "0                      18-12-2020   \n",
       "1                      18-12-2020   \n",
       "2                      27-02-2021   \n",
       "3                      18-12-2020   \n",
       "4                      07-02-2021   \n",
       "\n",
       "                                   Short Description  \\\n",
       "0  The small, fastest, secure Web Browser, best m...   \n",
       "1  Fast, simple, and secure. Google Chrome browse...   \n",
       "2  Fast, safe web browser: free VPN, Ad blocker, ...   \n",
       "3  Fast, safe web browser: free VPN, Ad blocker, ...   \n",
       "4  Puffin TV Browser - One App to Watch All Video...   \n",
       "\n",
       "                                    Long Description  \n",
       "0  One of the smallest, fastest, secure Web Brows...  \n",
       "1  Google Chrome is a fast, easy to use, and secu...  \n",
       "2  Fast, safe and private, introducing the latest...  \n",
       "3  Opera is a fast, safe web browser for your And...  \n",
       "4  Puffin TV Browser is a special edition of Puff...  "
      ]
     },
     "execution_count": 22,
     "metadata": {},
     "output_type": "execute_result"
    }
   ],
   "source": [
    "df.head()"
   ]
  },
  {
   "cell_type": "code",
   "execution_count": 23,
   "id": "2f5af989-8d7b-4398-8cb5-30f67c64603a",
   "metadata": {},
   "outputs": [
    {
     "name": "stdout",
     "output_type": "stream",
     "text": [
      "<class 'pandas.core.frame.DataFrame'>\n",
      "RangeIndex: 3066 entries, 0 to 3065\n",
      "Data columns (total 10 columns):\n",
      " #   Column                           Non-Null Count  Dtype  \n",
      "---  ------                           --------------  -----  \n",
      " 0   ID                               3066 non-null   int64  \n",
      " 1   Keyword                          3066 non-null   object \n",
      " 2   Rank                             3050 non-null   float64\n",
      " 3   Country                          3066 non-null   object \n",
      " 4   Language                         3066 non-null   object \n",
      " 5   Date                             3066 non-null   object \n",
      " 6   App ID                           3066 non-null   object \n",
      " 7   Date of Last Description Change  3066 non-null   object \n",
      " 8   Short Description                3066 non-null   object \n",
      " 9   Long Description                 3066 non-null   object \n",
      "dtypes: float64(1), int64(1), object(8)\n",
      "memory usage: 239.7+ KB\n"
     ]
    }
   ],
   "source": [
    "df.info()"
   ]
  },
  {
   "cell_type": "markdown",
   "id": "c8d14e44-1c7f-48d5-99ae-24c84c277f7d",
   "metadata": {},
   "source": [
    "We can drop the columns 'Date','ID','Country','Language' and 'Date of Last Description Change'"
   ]
  },
  {
   "cell_type": "code",
   "execution_count": 24,
   "id": "d1257fba-abc7-4b3b-944d-c849d950d496",
   "metadata": {},
   "outputs": [],
   "source": [
    "df = df[['Keyword', 'Rank', 'Short Description', 'Long Description', 'App ID']]"
   ]
  },
  {
   "cell_type": "code",
   "execution_count": 25,
   "id": "46d67fe9-84ed-4dbb-a6fc-c6c356a20e0d",
   "metadata": {},
   "outputs": [
    {
     "data": {
      "text/plain": [
       "Keyword               0\n",
       "Rank                 16\n",
       "Short Description     0\n",
       "Long Description      0\n",
       "App ID                0\n",
       "dtype: int64"
      ]
     },
     "execution_count": 25,
     "metadata": {},
     "output_type": "execute_result"
    }
   ],
   "source": [
    "df.isnull().sum()"
   ]
  },
  {
   "cell_type": "code",
   "execution_count": 26,
   "id": "c82b21a4-7d4e-41a6-90d1-170fa95fb5b1",
   "metadata": {},
   "outputs": [
    {
     "name": "stdout",
     "output_type": "stream",
     "text": [
      "(3066, 5)\n"
     ]
    },
    {
     "data": {
      "text/plain": [
       "(3050, 5)"
      ]
     },
     "execution_count": 26,
     "metadata": {},
     "output_type": "execute_result"
    }
   ],
   "source": [
    "print(df.shape)\n",
    "df = df.dropna(axis = 0)\n",
    "df.shape"
   ]
  },
  {
   "cell_type": "code",
   "execution_count": 27,
   "id": "8493bb19-10e6-4552-ba4b-ed5bf145dc58",
   "metadata": {
    "scrolled": true,
    "tags": []
   },
   "outputs": [],
   "source": [
    "#df[df['Keyword']=='browser'].sort_values(by = 'Rank').drop_duplicates()"
   ]
  },
  {
   "cell_type": "code",
   "execution_count": 28,
   "id": "ea341866-5bbe-4a63-9013-115024b59199",
   "metadata": {},
   "outputs": [
    {
     "name": "stderr",
     "output_type": "stream",
     "text": [
      "c:\\users\\saumi\\appdata\\local\\programs\\python\\python38\\lib\\site-packages\\seaborn\\_decorators.py:36: FutureWarning: Pass the following variable as a keyword arg: x. From version 0.12, the only valid positional argument will be `data`, and passing other arguments without an explicit keyword will result in an error or misinterpretation.\n",
      "  warnings.warn(\n"
     ]
    },
    {
     "data": {
      "image/png": "[encoded data removed]",
      "text/plain": [
       "<Figure size 432x288 with 1 Axes>"
      ]
     },
     "metadata": {
      "needs_background": "light"
     },
     "output_type": "display_data"
    }
   ],
   "source": [
    "dup = sns.countplot(df.duplicated())\n",
    "for p in dup.patches:\n",
    "    dup.annotate('{:.1f}'.format(p.get_height()), (p.get_x()+0.25, p.get_height()+0.01))\n",
    "\n",
    "plt.show()"
   ]
  },
  {
   "cell_type": "markdown",
   "id": "447c2ceb-50ed-4217-832b-d87f3981b1b2",
   "metadata": {},
   "source": [
    "A large number of records seem to be duplicate, hence we can remove those"
   ]
  },
  {
   "cell_type": "code",
   "execution_count": 29,
   "id": "7fa3be50-1a36-4d52-b11f-3396aaf379d1",
   "metadata": {},
   "outputs": [],
   "source": [
    "df.drop_duplicates(keep = 'first',inplace = True)"
   ]
  },
  {
   "cell_type": "code",
   "execution_count": 30,
   "id": "115bd79e-5d8a-49e4-84d8-cedac65c1bfb",
   "metadata": {
    "scrolled": true,
    "tags": []
   },
   "outputs": [
    {
     "data": {
      "text/html": [
       "<div>\n",
       "<style scoped>\n",
       "    .dataframe tbody tr th:only-of-type {\n",
       "        vertical-align: middle;\n",
       "    }\n",
       "\n",
       "    .dataframe tbody tr th {\n",
       "        vertical-align: top;\n",
       "    }\n",
       "\n",
       "    .dataframe thead th {\n",
       "        text-align: right;\n",
       "    }\n",
       "</style>\n",
       "<table border=\"1\" class=\"dataframe\">\n",
       "  <thead>\n",
       "    <tr style=\"text-align: right;\">\n",
       "      <th></th>\n",
       "      <th></th>\n",
       "      <th></th>\n",
       "      <th>App ID</th>\n",
       "      <th>Rank</th>\n",
       "      <th>Keyword</th>\n",
       "      <th>Long Description</th>\n",
       "    </tr>\n",
       "    <tr>\n",
       "      <th>App ID</th>\n",
       "      <th>Rank</th>\n",
       "      <th></th>\n",
       "      <th></th>\n",
       "      <th></th>\n",
       "      <th></th>\n",
       "      <th></th>\n",
       "    </tr>\n",
       "  </thead>\n",
       "  <tbody>\n",
       "    <tr>\n",
       "      <th rowspan=\"5\" valign=\"top\">com.android.chrome</th>\n",
       "      <th>1.0</th>\n",
       "      <th>467</th>\n",
       "      <td>com.android.chrome</td>\n",
       "      <td>1.0</td>\n",
       "      <td>browser</td>\n",
       "      <td>Google Chrome is a fast, easy to use, and secu...</td>\n",
       "    </tr>\n",
       "    <tr>\n",
       "      <th>2.0</th>\n",
       "      <th>408</th>\n",
       "      <td>com.android.chrome</td>\n",
       "      <td>2.0</td>\n",
       "      <td>browser</td>\n",
       "      <td>Google Chrome is a fast, easy to use, and secu...</td>\n",
       "    </tr>\n",
       "    <tr>\n",
       "      <th>3.0</th>\n",
       "      <th>1</th>\n",
       "      <td>com.android.chrome</td>\n",
       "      <td>3.0</td>\n",
       "      <td>browser</td>\n",
       "      <td>Google Chrome is a fast, easy to use, and secu...</td>\n",
       "    </tr>\n",
       "    <tr>\n",
       "      <th>4.0</th>\n",
       "      <th>23</th>\n",
       "      <td>com.android.chrome</td>\n",
       "      <td>4.0</td>\n",
       "      <td>browser</td>\n",
       "      <td>Google Chrome is a fast, easy to use, and secu...</td>\n",
       "    </tr>\n",
       "    <tr>\n",
       "      <th>5.0</th>\n",
       "      <th>880</th>\n",
       "      <td>com.android.chrome</td>\n",
       "      <td>5.0</td>\n",
       "      <td>browser</td>\n",
       "      <td>Google Chrome is a fast, easy to use, and secu...</td>\n",
       "    </tr>\n",
       "  </tbody>\n",
       "</table>\n",
       "</div>"
      ],
      "text/plain": [
       "                                         App ID  Rank  Keyword  \\\n",
       "App ID             Rank                                          \n",
       "com.android.chrome 1.0  467  com.android.chrome   1.0  browser   \n",
       "                   2.0  408  com.android.chrome   2.0  browser   \n",
       "                   3.0  1    com.android.chrome   3.0  browser   \n",
       "                   4.0  23   com.android.chrome   4.0  browser   \n",
       "                   5.0  880  com.android.chrome   5.0  browser   \n",
       "\n",
       "                                                              Long Description  \n",
       "App ID             Rank                                                         \n",
       "com.android.chrome 1.0  467  Google Chrome is a fast, easy to use, and secu...  \n",
       "                   2.0  408  Google Chrome is a fast, easy to use, and secu...  \n",
       "                   3.0  1    Google Chrome is a fast, easy to use, and secu...  \n",
       "                   4.0  23   Google Chrome is a fast, easy to use, and secu...  \n",
       "                   5.0  880  Google Chrome is a fast, easy to use, and secu...  "
      ]
     },
     "execution_count": 30,
     "metadata": {},
     "output_type": "execute_result"
    }
   ],
   "source": [
    "df[df['Keyword'] == 'browser'][['App ID','Rank','Keyword','Long Description']].groupby(by = ['App ID','Rank']).apply(lambda a: a[:]).head()"
   ]
  },
  {
   "cell_type": "markdown",
   "id": "2b1853c8-32f6-4d8c-a451-de172d6250d1",
   "metadata": {},
   "source": [
    "It looks like the dataset is scraped from multiple sources since there are multiple browsers with similar ranks, while also the same browser is ranked differently."
   ]
  },
  {
   "cell_type": "code",
   "execution_count": 31,
   "id": "cfcf0551-8d40-4e47-b146-b946f429f4aa",
   "metadata": {
    "scrolled": true,
    "tags": []
   },
   "outputs": [
    {
     "data": {
      "text/html": [
       "<div>\n",
       "<style scoped>\n",
       "    .dataframe tbody tr th:only-of-type {\n",
       "        vertical-align: middle;\n",
       "    }\n",
       "\n",
       "    .dataframe tbody tr th {\n",
       "        vertical-align: top;\n",
       "    }\n",
       "\n",
       "    .dataframe thead th {\n",
       "        text-align: right;\n",
       "    }\n",
       "</style>\n",
       "<table border=\"1\" class=\"dataframe\">\n",
       "  <thead>\n",
       "    <tr style=\"text-align: right;\">\n",
       "      <th></th>\n",
       "      <th>Keyword</th>\n",
       "      <th>Rank</th>\n",
       "      <th>Short Description</th>\n",
       "      <th>Long Description</th>\n",
       "      <th>App ID</th>\n",
       "    </tr>\n",
       "  </thead>\n",
       "  <tbody>\n",
       "    <tr>\n",
       "      <th>151</th>\n",
       "      <td>ad free browser</td>\n",
       "      <td>2.0</td>\n",
       "      <td>Free, safe internet browser! Private browsing,...</td>\n",
       "      <td>Privately browse the internet, for free! The B...</td>\n",
       "      <td>com.brave.browser</td>\n",
       "    </tr>\n",
       "    <tr>\n",
       "      <th>68</th>\n",
       "      <td>ad free browser</td>\n",
       "      <td>3.0</td>\n",
       "      <td>Free, safe internet browser! Private browsing,...</td>\n",
       "      <td>Privately browse the internet, for free! The B...</td>\n",
       "      <td>com.brave.browser</td>\n",
       "    </tr>\n",
       "    <tr>\n",
       "      <th>462</th>\n",
       "      <td>ad free browser</td>\n",
       "      <td>4.0</td>\n",
       "      <td>Free, safe internet browser! Private browsing,...</td>\n",
       "      <td>Privately browse the internet, for free! The B...</td>\n",
       "      <td>com.brave.browser</td>\n",
       "    </tr>\n",
       "    <tr>\n",
       "      <th>547</th>\n",
       "      <td>ad free browser</td>\n",
       "      <td>5.0</td>\n",
       "      <td>Browse the web privately, search anonymously, ...</td>\n",
       "      <td>Tired of being tracked online? We can help. At...</td>\n",
       "      <td>com.duckduckgo.mobile.android</td>\n",
       "    </tr>\n",
       "    <tr>\n",
       "      <th>548</th>\n",
       "      <td>ad free browser</td>\n",
       "      <td>5.0</td>\n",
       "      <td>Browse the web privately, search anonymously, ...</td>\n",
       "      <td>Tired of being tracked online? We can help. At...</td>\n",
       "      <td>com.duckduckgo.mobile.android</td>\n",
       "    </tr>\n",
       "  </tbody>\n",
       "</table>\n",
       "</div>"
      ],
      "text/plain": [
       "             Keyword  Rank                                  Short Description  \\\n",
       "151  ad free browser   2.0  Free, safe internet browser! Private browsing,...   \n",
       "68   ad free browser   3.0  Free, safe internet browser! Private browsing,...   \n",
       "462  ad free browser   4.0  Free, safe internet browser! Private browsing,...   \n",
       "547  ad free browser   5.0  Browse the web privately, search anonymously, ...   \n",
       "548  ad free browser   5.0  Browse the web privately, search anonymously, ...   \n",
       "\n",
       "                                      Long Description  \\\n",
       "151  Privately browse the internet, for free! The B...   \n",
       "68   Privately browse the internet, for free! The B...   \n",
       "462  Privately browse the internet, for free! The B...   \n",
       "547  Tired of being tracked online? We can help. At...   \n",
       "548  Tired of being tracked online? We can help. At...   \n",
       "\n",
       "                            App ID  \n",
       "151              com.brave.browser  \n",
       "68               com.brave.browser  \n",
       "462              com.brave.browser  \n",
       "547  com.duckduckgo.mobile.android  \n",
       "548  com.duckduckgo.mobile.android  "
      ]
     },
     "execution_count": 31,
     "metadata": {},
     "output_type": "execute_result"
    }
   ],
   "source": [
    "df.sort_values(by = ['Keyword','Rank']).head()"
   ]
  },
  {
   "cell_type": "code",
   "execution_count": 32,
   "id": "8b1851b8-2e26-4065-b51f-0280adf731a2",
   "metadata": {},
   "outputs": [
    {
     "data": {
      "text/plain": [
       "array(['browser', 'android browser', 'privacy browser',\n",
       "       'privacy browsers for android', 'best privacy browsers',\n",
       "       'fast browser', 'ad free browser'], dtype=object)"
      ]
     },
     "execution_count": 32,
     "metadata": {},
     "output_type": "execute_result"
    }
   ],
   "source": [
    "df['Keyword'].unique()"
   ]
  },
  {
   "cell_type": "code",
   "execution_count": 33,
   "id": "8c5a4e22-8053-47af-8a04-65a1c751864d",
   "metadata": {},
   "outputs": [
    {
     "data": {
      "text/plain": [
       "(609, 5)"
      ]
     },
     "execution_count": 33,
     "metadata": {},
     "output_type": "execute_result"
    }
   ],
   "source": [
    "df.shape"
   ]
  },
  {
   "cell_type": "code",
   "execution_count": 34,
   "id": "e3ad533c-b24a-45ab-89f4-dfea43097840",
   "metadata": {},
   "outputs": [],
   "source": [
    "def check_keyword(keyword,desc, poscheck = False):\n",
    "    '''\n",
    "    Function to check presence and count of keyword in the description.\n",
    "    \n",
    "    Stems 'brows' from keywords so that any word such as 'browsing','browser' and other variants with similar meaning are also detected\n",
    "    \n",
    "    '''\n",
    "    keyword_array = keyword.split()\n",
    "    for i in range(len(keyword_array)):\n",
    "        keyword_array[i] = keyword_array[i].lower()\n",
    "        if keyword_array[i] in ['browser','browsers']:\n",
    "            keyword_array[i] = 'brows'\n",
    "            \n",
    "    desc_array = desc.split()\n",
    "    for i in range(len(desc_array)):\n",
    "        desc_array[i] = ''.join(char for char in desc_array[i] if char.isalnum())\n",
    "        desc_array[i] = desc_array[i].lower()\n",
    "    \n",
    "    count = 0\n",
    "    for word in keyword_array:\n",
    "        for word1 in desc_array:\n",
    "            if word in word1 :\n",
    "                count = count+1\n",
    "                \n",
    "        \n",
    "    return count\n",
    "    \n",
    "def poscheck(keyword,desc):\n",
    "    '''\n",
    "    Function to check position of keyword in the description.\n",
    "    \n",
    "    Stems 'brows' from keywords so that any word such as 'browsing','browser' and other variants with similar meaning are also detected\n",
    "    \n",
    "    '''\n",
    "    keyword_array = keyword.split()\n",
    "    for i in range(len(keyword_array)):\n",
    "        keyword_array[i] = keyword_array[i].lower()\n",
    "        if keyword_array[i] in ['browser','browsers']:\n",
    "            keyword_array[i] = 'brows'\n",
    "    #print(keyword_array)\n",
    "            \n",
    "    desc_array = desc.split()\n",
    "    for i in range(len(desc_array)):\n",
    "        desc_array[i] = ''.join(char for char in desc_array[i] if char.isalnum())\n",
    "        desc_array[i] = desc_array[i].lower()\n",
    "        \n",
    "    #print(len(desc_array))\n",
    "    pos = 9999    \n",
    "    for word in keyword_array:\n",
    "        for i in range(len(desc_array)):\n",
    "            if word in desc_array[i]:\n",
    "               # print(desc_array[i])\n",
    "                if i<pos:\n",
    "                    pos = i\n",
    "                break\n",
    "            \n",
    "\n",
    "    return pos;"
   ]
  },
  {
   "cell_type": "code",
   "execution_count": 35,
   "id": "e1fa96b4-a2d1-48e6-8873-c657cfba73e0",
   "metadata": {},
   "outputs": [],
   "source": [
    "df['Keyword_SD'] = df.apply(lambda row : check_keyword(row['Keyword'],row['Short Description']),axis = 1)\n",
    "df['Keyword_LD'] = df.apply(lambda row : check_keyword(row['Keyword'],row['Long Description']),axis = 1)\n",
    "df['Keyword_LD_pos'] = df.apply(lambda row : poscheck(row['Keyword'],row['Long Description']),axis = 1)"
   ]
  },
  {
   "cell_type": "code",
   "execution_count": 36,
   "id": "0615e89c-9a5c-40c6-be3c-1d562b9eb16d",
   "metadata": {},
   "outputs": [
    {
     "data": {
      "text/plain": [
       "<seaborn.axisgrid.JointGrid at 0x24240949be0>"
      ]
     },
     "execution_count": 36,
     "metadata": {},
     "output_type": "execute_result"
    },
    {
     "data": {
      "image/png": "[encoded data removed]",
      "text/plain": [
       "<Figure size 432x432 with 3 Axes>"
      ]
     },
     "metadata": {
      "needs_background": "light"
     },
     "output_type": "display_data"
    }
   ],
   "source": [
    "sns.jointplot(y = 'Rank',x = 'Keyword_LD',data = df, kind = 'hex')"
   ]
  },
  {
   "cell_type": "markdown",
   "id": "6fafbcf4-51bb-4eed-980b-a80004994946",
   "metadata": {},
   "source": [
    "Looks like browsers seem to have a good rank when the keyword occurs around <15 times in the Long Description"
   ]
  },
  {
   "cell_type": "code",
   "execution_count": 37,
   "id": "b4d72782-ac3f-4816-a690-aa25aae4ae4e",
   "metadata": {},
   "outputs": [
    {
     "data": {
      "text/plain": [
       "<seaborn.axisgrid.JointGrid at 0x24240b44070>"
      ]
     },
     "execution_count": 37,
     "metadata": {},
     "output_type": "execute_result"
    },
    {
     "data": {
      "image/png": "[encoded data removed]",
      "text/plain": [
       "<Figure size 432x432 with 3 Axes>"
      ]
     },
     "metadata": {
      "needs_background": "light"
     },
     "output_type": "display_data"
    }
   ],
   "source": [
    "sns.jointplot(y = 'Rank',x = 'Keyword_LD_pos',data = df, kind = 'hex')"
   ]
  },
  {
   "cell_type": "markdown",
   "id": "f4df60a2-dc8c-4b5e-af25-d1ec27a6691d",
   "metadata": {},
   "source": [
    "Looks like having the keyword be within the first few words (<5th) indicates a higher rank."
   ]
  },
  {
   "cell_type": "code",
   "execution_count": null,
   "id": "3a7de199-364d-41c0-a236-e8f0107eea78",
   "metadata": {},
   "outputs": [],
   "source": []
  }
 ],
 "metadata": {
  "kernelspec": {
   "display_name": "Python 3 (ipykernel)",
   "language": "python",
   "name": "python3"
  },
  "language_info": {
   "codemirror_mode": {
    "name": "ipython",
    "version": 3
   },
   "file_extension": ".py",
   "mimetype": "text/x-python",
   "name": "python",
   "nbconvert_exporter": "python",
   "pygments_lexer": "ipython3",
   "version": "3.8.0"
  }
 },
 "nbformat": 4,
 "nbformat_minor": 5
}
